{
 "cells": [
  {
   "cell_type": "code",
   "execution_count": 4,
   "id": "170bac73",
   "metadata": {},
   "outputs": [],
   "source": [
    "# For general programming\n",
    "import numpy as np\n",
    "import pandas as pd\n",
    "import matplotlib.pyplot as plt\n",
    "\n",
    "# For machine learning operations\n",
    "import tensorflow as tf"
   ]
  },
  {
   "cell_type": "code",
   "execution_count": 5,
   "id": "5de243ad",
   "metadata": {},
   "outputs": [],
   "source": [
    "model = tf.keras.models.load_model('C:\\\\Users\\\\ADMIN\\\\Downloads\\\\concrete_tensorflow_model.keras')"
   ]
  },
  {
   "cell_type": "code",
   "execution_count": 6,
   "id": "6f3748b5",
   "metadata": {},
   "outputs": [
    {
     "name": "stdout",
     "output_type": "stream",
     "text": [
      "predicted concrete strength in MPa =  tf.Tensor([73.234665], shape=(1,), dtype=float32) MPa\n"
     ]
    }
   ],
   "source": [
    "New_input_feature = np.array([[600,\n",
    "                             150,\n",
    "                             100,\n",
    "                             150,\n",
    "                             50,\n",
    "                             1300,\n",
    "                             900,\n",
    "                             30]])\n",
    "yp = model(New_input_feature, training=False)\n",
    "print('predicted concrete strength in MPa = ', yp[0], 'MPa')\n"
   ]
  },
  {
   "cell_type": "code",
   "execution_count": null,
   "id": "89f85b93",
   "metadata": {},
   "outputs": [],
   "source": []
  }
 ],
 "metadata": {
  "kernelspec": {
   "display_name": "Python 3",
   "language": "python",
   "name": "python3"
  },
  "language_info": {
   "codemirror_mode": {
    "name": "ipython",
    "version": 3
   },
   "file_extension": ".py",
   "mimetype": "text/x-python",
   "name": "python",
   "nbconvert_exporter": "python",
   "pygments_lexer": "ipython3",
   "version": "3.12.2"
  }
 },
 "nbformat": 4,
 "nbformat_minor": 5
}
